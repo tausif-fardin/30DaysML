{
    "cells": [
        {
            "cell_type": "markdown",
            "source": [
                "Lists:\r\n",
                "Lists in Python represent ordered sequences of values. Here is an example of how to create them:"
            ],
            "metadata": {}
        },
        {
            "cell_type": "code",
            "execution_count": 4,
            "source": [
                "primes = [2, 3, 5, 7]\r\n",
                "print(primes)"
            ],
            "outputs": [
                {
                    "output_type": "stream",
                    "name": "stdout",
                    "text": [
                        "[2, 3, 5, 7]\n"
                    ]
                }
            ],
            "metadata": {}
        },
        {
            "cell_type": "markdown",
            "source": [
                "We can put other types of things in lists:"
            ],
            "metadata": {}
        },
        {
            "cell_type": "code",
            "execution_count": 5,
            "source": [
                "planets = ['Mercury', 'Venus', 'Earth', 'Mars', 'Jupiter', 'Saturn', 'Uranus', 'Neptune']\r\n",
                "print(planets)"
            ],
            "outputs": [
                {
                    "output_type": "stream",
                    "name": "stdout",
                    "text": [
                        "['Mercury', 'Venus', 'Earth', 'Mars', 'Jupiter', 'Saturn', 'Uranus', 'Neptune']\n"
                    ]
                }
            ],
            "metadata": {}
        },
        {
            "cell_type": "markdown",
            "source": [
                "We can even make a list of lists:"
            ],
            "metadata": {}
        },
        {
            "cell_type": "code",
            "execution_count": 6,
            "source": [
                "hands = [\r\n",
                "    ['J', 'Q', 'K'],\r\n",
                "    ['2', '2', '2'],\r\n",
                "    ['6', 'A', 'K'], # (Comma after the last element is optional)\r\n",
                "]\r\n",
                "# (I could also have written this on one line, but it can get hard to read)\r\n",
                "hands = [['J', 'Q', 'K'], ['2', '2', '2'], ['6', 'A', 'K']]\r\n",
                "print(hands)"
            ],
            "outputs": [
                {
                    "output_type": "stream",
                    "name": "stdout",
                    "text": [
                        "[['J', 'Q', 'K'], ['2', '2', '2'], ['6', 'A', 'K']]\n"
                    ]
                }
            ],
            "metadata": {}
        },
        {
            "cell_type": "markdown",
            "source": [
                "A list can contain a mix of different types of variables:"
            ],
            "metadata": {}
        },
        {
            "cell_type": "code",
            "execution_count": 7,
            "source": [
                "my_favourite_things = [32, 'raindrops on roses', help]\r\n",
                "# (Yes, Python's help function is *definitely* one of my favourite things)\r\n",
                "print(my_favourite_things)"
            ],
            "outputs": [
                {
                    "output_type": "stream",
                    "name": "stdout",
                    "text": [
                        "[32, 'raindrops on roses', Type help() for interactive help, or help(object) for help about object.]\n"
                    ]
                }
            ],
            "metadata": {}
        },
        {
            "cell_type": "markdown",
            "source": [
                "Indexing:\r\n",
                "You can access individual list elements with square brackets.\r\n",
                "\r\n",
                "Which planet is closest to the sun? Python uses zero-based indexing, so the first element has index 0.\r\n"
            ],
            "metadata": {}
        },
        {
            "cell_type": "code",
            "execution_count": 8,
            "source": [
                "planets[0]"
            ],
            "outputs": [
                {
                    "output_type": "execute_result",
                    "data": {
                        "text/plain": [
                            "'Mercury'"
                        ]
                    },
                    "metadata": {},
                    "execution_count": 8
                }
            ],
            "metadata": {}
        },
        {
            "cell_type": "markdown",
            "source": [
                "What's the next closest planet?"
            ],
            "metadata": {}
        },
        {
            "cell_type": "code",
            "execution_count": 9,
            "source": [
                "planets[1]"
            ],
            "outputs": [
                {
                    "output_type": "execute_result",
                    "data": {
                        "text/plain": [
                            "'Venus'"
                        ]
                    },
                    "metadata": {},
                    "execution_count": 9
                }
            ],
            "metadata": {}
        },
        {
            "cell_type": "markdown",
            "source": [
                "Which planet is furthest from the sun?\r\n",
                "\r\n",
                "Elements at the end of the list can be accessed with negative numbers, starting from -1:"
            ],
            "metadata": {}
        },
        {
            "cell_type": "code",
            "execution_count": 10,
            "source": [
                "planets[-1]"
            ],
            "outputs": [
                {
                    "output_type": "execute_result",
                    "data": {
                        "text/plain": [
                            "'Neptune'"
                        ]
                    },
                    "metadata": {},
                    "execution_count": 10
                }
            ],
            "metadata": {}
        },
        {
            "cell_type": "markdown",
            "source": [
                "Slicing\r\n",
                "What are the first three planets? We can answer this question using slicing:"
            ],
            "metadata": {}
        },
        {
            "cell_type": "code",
            "execution_count": 11,
            "source": [
                "planets[0:3]\r\n"
            ],
            "outputs": [
                {
                    "output_type": "execute_result",
                    "data": {
                        "text/plain": [
                            "['Mercury', 'Venus', 'Earth']"
                        ]
                    },
                    "metadata": {},
                    "execution_count": 11
                }
            ],
            "metadata": {}
        },
        {
            "cell_type": "markdown",
            "source": [
                "planets[0:3] is our way of asking for the elements of planets starting from index 0 and continuing up to but not including index 3.\r\n",
                "\r\n",
                "The starting and ending indices are both optional. If I leave out the start index, it's assumed to be 0. So I could rewrite the expression above as:"
            ],
            "metadata": {}
        },
        {
            "cell_type": "code",
            "execution_count": 12,
            "source": [
                "planets[:3]"
            ],
            "outputs": [
                {
                    "output_type": "execute_result",
                    "data": {
                        "text/plain": [
                            "['Mercury', 'Venus', 'Earth']"
                        ]
                    },
                    "metadata": {},
                    "execution_count": 12
                }
            ],
            "metadata": {}
        },
        {
            "cell_type": "markdown",
            "source": [
                "If I leave out the end index, it's assumed to be the length of the list."
            ],
            "metadata": {}
        },
        {
            "cell_type": "code",
            "execution_count": 13,
            "source": [
                "planets[3:]"
            ],
            "outputs": [
                {
                    "output_type": "execute_result",
                    "data": {
                        "text/plain": [
                            "['Mars', 'Jupiter', 'Saturn', 'Uranus', 'Neptune']"
                        ]
                    },
                    "metadata": {},
                    "execution_count": 13
                }
            ],
            "metadata": {}
        },
        {
            "cell_type": "markdown",
            "source": [
                "i.e. the expression above means \"give me all the planets from index 3 onward\".\r\n",
                "\r\n",
                "We can also use negative indices when slicing:"
            ],
            "metadata": {}
        },
        {
            "cell_type": "code",
            "execution_count": 15,
            "source": [
                "# All the planets except the first and last\r\n",
                "planets[1:-1]\r\n",
                "# The last 3 planets\r\n",
                "planets[-3:]"
            ],
            "outputs": [
                {
                    "output_type": "execute_result",
                    "data": {
                        "text/plain": [
                            "['Saturn', 'Uranus', 'Neptune']"
                        ]
                    },
                    "metadata": {},
                    "execution_count": 15
                }
            ],
            "metadata": {}
        },
        {
            "cell_type": "markdown",
            "source": [
                "Changing lists\r\n",
                "Lists are \"mutable\", meaning they can be modified \"in place\".\r\n",
                "\r\n",
                "One way to modify a list is to assign to an index or slice expression.\r\n",
                "\r\n",
                "For example, let's say we want to rename Mars:"
            ],
            "metadata": {}
        },
        {
            "cell_type": "code",
            "execution_count": 16,
            "source": [
                "planets[3] = 'Malacandra'\r\n",
                "planets"
            ],
            "outputs": [
                {
                    "output_type": "execute_result",
                    "data": {
                        "text/plain": [
                            "['Mercury',\n",
                            " 'Venus',\n",
                            " 'Earth',\n",
                            " 'Malacandra',\n",
                            " 'Jupiter',\n",
                            " 'Saturn',\n",
                            " 'Uranus',\n",
                            " 'Neptune']"
                        ]
                    },
                    "metadata": {},
                    "execution_count": 16
                }
            ],
            "metadata": {}
        },
        {
            "cell_type": "markdown",
            "source": [
                "Hm, that's quite a mouthful. Let's compensate by shortening the names of the first 3 planets."
            ],
            "metadata": {}
        },
        {
            "cell_type": "code",
            "execution_count": 20,
            "source": [
                "planets[:3] = ['Mur', 'Vee', 'Ur']\r\n",
                "print(planets)\r\n",
                "# That was silly. Let's give them back their old names\r\n",
                "planets[:4] = ['Mercury', 'Venus', 'Earth', 'Mars',]\r\n",
                "print(planets)\r\n"
            ],
            "outputs": [
                {
                    "output_type": "stream",
                    "name": "stdout",
                    "text": [
                        "['Mur', 'Vee', 'Ur', 'Mars', 'Jupiter', 'Saturn', 'Uranus', 'Neptune']\n",
                        "['Mercury', 'Venus', 'Earth', 'Mars', 'Jupiter', 'Saturn', 'Uranus', 'Neptune']\n"
                    ]
                }
            ],
            "metadata": {}
        },
        {
            "cell_type": "markdown",
            "source": [
                "List functions\r\n",
                "Python has several useful functions for working with lists.\r\n",
                "\r\n",
                "len gives the length of a list:"
            ],
            "metadata": {}
        },
        {
            "cell_type": "code",
            "execution_count": 21,
            "source": [
                "# How many planets are there?\r\n",
                "len(planets)3"
            ],
            "outputs": [
                {
                    "output_type": "execute_result",
                    "data": {
                        "text/plain": [
                            "8"
                        ]
                    },
                    "metadata": {},
                    "execution_count": 21
                }
            ],
            "metadata": {}
        },
        {
            "cell_type": "markdown",
            "source": [
                "sorted returns a sorted version of a list:"
            ],
            "metadata": {}
        },
        {
            "cell_type": "code",
            "execution_count": 22,
            "source": [
                "# The planets sorted in alphabetical order\r\n",
                "sorted(planets)"
            ],
            "outputs": [
                {
                    "output_type": "execute_result",
                    "data": {
                        "text/plain": [
                            "['Earth', 'Jupiter', 'Mars', 'Mercury', 'Neptune', 'Saturn', 'Uranus', 'Venus']"
                        ]
                    },
                    "metadata": {},
                    "execution_count": 22
                }
            ],
            "metadata": {}
        },
        {
            "cell_type": "markdown",
            "source": [
                "sum does what you might expect:"
            ],
            "metadata": {}
        },
        {
            "cell_type": "code",
            "execution_count": 23,
            "source": [
                "primes = [2, 3, 5, 7]\r\n",
                "sum(primes)"
            ],
            "outputs": [
                {
                    "output_type": "execute_result",
                    "data": {
                        "text/plain": [
                            "17"
                        ]
                    },
                    "metadata": {},
                    "execution_count": 23
                }
            ],
            "metadata": {}
        },
        {
            "cell_type": "markdown",
            "source": [
                "We've previously used the min and max to get the minimum or maximum of several arguments. \r\n",
                "But we can also pass in a single list argument."
            ],
            "metadata": {}
        },
        {
            "cell_type": "code",
            "execution_count": 25,
            "source": [
                "max(primes)\r\n",
                "min(primes)"
            ],
            "outputs": [
                {
                    "output_type": "execute_result",
                    "data": {
                        "text/plain": [
                            "2"
                        ]
                    },
                    "metadata": {},
                    "execution_count": 25
                }
            ],
            "metadata": {}
        },
        {
            "cell_type": "markdown",
            "source": [
                "Interlude: objects\r\n",
                "I've used the term 'object' a lot so far - you may have even read that everything in Python is an object. What does that mean?\r\n",
                "\r\n",
                "In short, objects carry some things around with them. You access that stuff using Python's dot syntax.\r\n",
                "\r\n",
                "For example, numbers in Python carry around an associated variable called imag representing their imaginary part. (You'll probably never need to use this unless you're doing some very weird math.)"
            ],
            "metadata": {}
        },
        {
            "cell_type": "code",
            "execution_count": 27,
            "source": [
                "x = 12\r\n",
                "# x is a real number, so its imaginary part is 0.\r\n",
                "print(x.imag)\r\n",
                "# Here's how to make a complex number, in case you've ever been curious:\r\n",
                "c = 12 + 3j\r\n",
                "print(c.imag)"
            ],
            "outputs": [
                {
                    "output_type": "stream",
                    "name": "stdout",
                    "text": [
                        "0\n",
                        "3.0\n"
                    ]
                }
            ],
            "metadata": {}
        },
        {
            "cell_type": "markdown",
            "source": [
                "The things an object carries around can also include functions. A function attached to an object is called a method. (Non-function things attached to an object, such as imag, are called attributes).\r\n",
                "\r\n",
                "For example, numbers have a method called bit_length. Again, we access it using dot syntax:"
            ],
            "metadata": {}
        },
        {
            "cell_type": "code",
            "execution_count": 28,
            "source": [
                "x.bit_length()"
            ],
            "outputs": [
                {
                    "output_type": "execute_result",
                    "data": {
                        "text/plain": [
                            "4"
                        ]
                    },
                    "metadata": {},
                    "execution_count": 28
                }
            ],
            "metadata": {}
        },
        {
            "cell_type": "markdown",
            "source": [
                " we can pass functions to the help function (e.g. help(max)), we can also pass in methods:"
            ],
            "metadata": {}
        },
        {
            "cell_type": "code",
            "execution_count": 29,
            "source": [
                "help(x.bit_length)"
            ],
            "outputs": [
                {
                    "output_type": "stream",
                    "name": "stdout",
                    "text": [
                        "Help on built-in function bit_length:\n",
                        "\n",
                        "bit_length() method of builtins.int instance\n",
                        "    Number of bits necessary to represent self in binary.\n",
                        "    \n",
                        "    >>> bin(37)\n",
                        "    '0b100101'\n",
                        "    >>> (37).bit_length()\n",
                        "    6\n",
                        "\n"
                    ]
                }
            ],
            "metadata": {}
        },
        {
            "cell_type": "markdown",
            "source": [
                "List methods:\r\n",
                "list.append modifies a list by adding an item to the end:"
            ],
            "metadata": {}
        },
        {
            "cell_type": "code",
            "execution_count": 32,
            "source": [
                "# Pluto is a planet darn it!\r\n",
                "planets.append('Pluto')\r\n",
                "print(planets)\r\n",
                "help(planets.append)"
            ],
            "outputs": [
                {
                    "output_type": "stream",
                    "name": "stdout",
                    "text": [
                        "['Mercury', 'Venus', 'Earth', 'Mars', 'Jupiter', 'Saturn', 'Uranus', 'Neptune', 'Pluto', 'Pluto', 'Pluto']\n",
                        "Help on built-in function append:\n",
                        "\n",
                        "append(object, /) method of builtins.list instance\n",
                        "    Append object to the end of the list.\n",
                        "\n"
                    ]
                }
            ],
            "metadata": {}
        },
        {
            "cell_type": "markdown",
            "source": [
                "list.pop removes and returns the last element of a list:"
            ],
            "metadata": {}
        },
        {
            "cell_type": "code",
            "execution_count": 34,
            "source": [
                "planets.pop()\r\n",
                "planets"
            ],
            "outputs": [
                {
                    "output_type": "execute_result",
                    "data": {
                        "text/plain": [
                            "['Mercury',\n",
                            " 'Venus',\n",
                            " 'Earth',\n",
                            " 'Mars',\n",
                            " 'Jupiter',\n",
                            " 'Saturn',\n",
                            " 'Uranus',\n",
                            " 'Neptune',\n",
                            " 'Pluto']"
                        ]
                    },
                    "metadata": {},
                    "execution_count": 34
                }
            ],
            "metadata": {}
        },
        {
            "cell_type": "markdown",
            "source": [
                "Searching lists:\r\n",
                "Where does Earth fall in the order of planets? We can get its index using the list.index method."
            ],
            "metadata": {}
        },
        {
            "cell_type": "code",
            "execution_count": 35,
            "source": [
                "planets.index('Earth')"
            ],
            "outputs": [
                {
                    "output_type": "execute_result",
                    "data": {
                        "text/plain": [
                            "2"
                        ]
                    },
                    "metadata": {},
                    "execution_count": 35
                }
            ],
            "metadata": {}
        },
        {
            "cell_type": "markdown",
            "source": [
                "It comes third (i.e. at index 2 - 0 indexing!).\r\n",
                "At what index does Pluto occur?"
            ],
            "metadata": {}
        },
        {
            "cell_type": "code",
            "execution_count": 38,
            "source": [
                "planets.index('Pluto')\r\n",
                "# Is Earth a planet?\r\n",
                "\"Earth\" in planets\r\n",
                "# Is Calbefraques a planet?\r\n",
                "\"Calbefraques\" in planets"
            ],
            "outputs": [
                {
                    "output_type": "execute_result",
                    "data": {
                        "text/plain": [
                            "False"
                        ]
                    },
                    "metadata": {},
                    "execution_count": 38
                }
            ],
            "metadata": {}
        },
        {
            "cell_type": "markdown",
            "source": [
                "There are a few more interesting list methods we haven't covered. If you want to learn about all the methods and attributes attached to a particular object, we can call help() on the object itself. For example, help(planets) will tell us about all the list methods:"
            ],
            "metadata": {}
        },
        {
            "cell_type": "code",
            "execution_count": 39,
            "source": [
                "help(planets)"
            ],
            "outputs": [
                {
                    "output_type": "stream",
                    "name": "stdout",
                    "text": [
                        "Help on list object:\n",
                        "\n",
                        "class list(object)\n",
                        " |  list(iterable=(), /)\n",
                        " |  \n",
                        " |  Built-in mutable sequence.\n",
                        " |  \n",
                        " |  If no argument is given, the constructor creates a new empty list.\n",
                        " |  The argument must be an iterable if specified.\n",
                        " |  \n",
                        " |  Methods defined here:\n",
                        " |  \n",
                        " |  __add__(self, value, /)\n",
                        " |      Return self+value.\n",
                        " |  \n",
                        " |  __contains__(self, key, /)\n",
                        " |      Return key in self.\n",
                        " |  \n",
                        " |  __delitem__(self, key, /)\n",
                        " |      Delete self[key].\n",
                        " |  \n",
                        " |  __eq__(self, value, /)\n",
                        " |      Return self==value.\n",
                        " |  \n",
                        " |  __ge__(self, value, /)\n",
                        " |      Return self>=value.\n",
                        " |  \n",
                        " |  __getattribute__(self, name, /)\n",
                        " |      Return getattr(self, name).\n",
                        " |  \n",
                        " |  __getitem__(...)\n",
                        " |      x.__getitem__(y) <==> x[y]\n",
                        " |  \n",
                        " |  __gt__(self, value, /)\n",
                        " |      Return self>value.\n",
                        " |  \n",
                        " |  __iadd__(self, value, /)\n",
                        " |      Implement self+=value.\n",
                        " |  \n",
                        " |  __imul__(self, value, /)\n",
                        " |      Implement self*=value.\n",
                        " |  \n",
                        " |  __init__(self, /, *args, **kwargs)\n",
                        " |      Initialize self.  See help(type(self)) for accurate signature.\n",
                        " |  \n",
                        " |  __iter__(self, /)\n",
                        " |      Implement iter(self).\n",
                        " |  \n",
                        " |  __le__(self, value, /)\n",
                        " |      Return self<=value.\n",
                        " |  \n",
                        " |  __len__(self, /)\n",
                        " |      Return len(self).\n",
                        " |  \n",
                        " |  __lt__(self, value, /)\n",
                        " |      Return self<value.\n",
                        " |  \n",
                        " |  __mul__(self, value, /)\n",
                        " |      Return self*value.\n",
                        " |  \n",
                        " |  __ne__(self, value, /)\n",
                        " |      Return self!=value.\n",
                        " |  \n",
                        " |  __repr__(self, /)\n",
                        " |      Return repr(self).\n",
                        " |  \n",
                        " |  __reversed__(self, /)\n",
                        " |      Return a reverse iterator over the list.\n",
                        " |  \n",
                        " |  __rmul__(self, value, /)\n",
                        " |      Return value*self.\n",
                        " |  \n",
                        " |  __setitem__(self, key, value, /)\n",
                        " |      Set self[key] to value.\n",
                        " |  \n",
                        " |  __sizeof__(self, /)\n",
                        " |      Return the size of the list in memory, in bytes.\n",
                        " |  \n",
                        " |  append(self, object, /)\n",
                        " |      Append object to the end of the list.\n",
                        " |  \n",
                        " |  clear(self, /)\n",
                        " |      Remove all items from list.\n",
                        " |  \n",
                        " |  copy(self, /)\n",
                        " |      Return a shallow copy of the list.\n",
                        " |  \n",
                        " |  count(self, value, /)\n",
                        " |      Return number of occurrences of value.\n",
                        " |  \n",
                        " |  extend(self, iterable, /)\n",
                        " |      Extend list by appending elements from the iterable.\n",
                        " |  \n",
                        " |  index(self, value, start=0, stop=9223372036854775807, /)\n",
                        " |      Return first index of value.\n",
                        " |      \n",
                        " |      Raises ValueError if the value is not present.\n",
                        " |  \n",
                        " |  insert(self, index, object, /)\n",
                        " |      Insert object before index.\n",
                        " |  \n",
                        " |  pop(self, index=-1, /)\n",
                        " |      Remove and return item at index (default last).\n",
                        " |      \n",
                        " |      Raises IndexError if list is empty or index is out of range.\n",
                        " |  \n",
                        " |  remove(self, value, /)\n",
                        " |      Remove first occurrence of value.\n",
                        " |      \n",
                        " |      Raises ValueError if the value is not present.\n",
                        " |  \n",
                        " |  reverse(self, /)\n",
                        " |      Reverse *IN PLACE*.\n",
                        " |  \n",
                        " |  sort(self, /, *, key=None, reverse=False)\n",
                        " |      Sort the list in ascending order and return None.\n",
                        " |      \n",
                        " |      The sort is in-place (i.e. the list itself is modified) and stable (i.e. the\n",
                        " |      order of two equal elements is maintained).\n",
                        " |      \n",
                        " |      If a key function is given, apply it once to each list item and sort them,\n",
                        " |      ascending or descending, according to their function values.\n",
                        " |      \n",
                        " |      The reverse flag can be set to sort in descending order.\n",
                        " |  \n",
                        " |  ----------------------------------------------------------------------\n",
                        " |  Class methods defined here:\n",
                        " |  \n",
                        " |  __class_getitem__(...) from builtins.type\n",
                        " |      See PEP 585\n",
                        " |  \n",
                        " |  ----------------------------------------------------------------------\n",
                        " |  Static methods defined here:\n",
                        " |  \n",
                        " |  __new__(*args, **kwargs) from builtins.type\n",
                        " |      Create and return a new object.  See help(type) for accurate signature.\n",
                        " |  \n",
                        " |  ----------------------------------------------------------------------\n",
                        " |  Data and other attributes defined here:\n",
                        " |  \n",
                        " |  __hash__ = None\n",
                        "\n"
                    ]
                }
            ],
            "metadata": {}
        },
        {
            "cell_type": "markdown",
            "source": [
                "Tuples:\r\n",
                "Tuples are almost exactly the same as lists. They differ in just two ways.\r\n",
                "1: The syntax for creating them uses parentheses instead of square brackets.\r\n",
                "2: They cannot be modified (they are immutable)."
            ],
            "metadata": {}
        },
        {
            "cell_type": "code",
            "execution_count": 40,
            "source": [
                "t = (1, 2, 3)\r\n",
                "t = 1, 2, 3 # equivalent to above\r\n",
                "t"
            ],
            "outputs": [
                {
                    "output_type": "execute_result",
                    "data": {
                        "text/plain": [
                            "(1, 2, 3)"
                        ]
                    },
                    "metadata": {},
                    "execution_count": 40
                }
            ],
            "metadata": {}
        },
        {
            "cell_type": "code",
            "execution_count": 41,
            "source": [
                "t[0] = 100"
            ],
            "outputs": [
                {
                    "output_type": "error",
                    "ename": "TypeError",
                    "evalue": "'tuple' object does not support item assignment",
                    "traceback": [
                        "\u001b[1;31m---------------------------------------------------------------------------\u001b[0m",
                        "\u001b[1;31mTypeError\u001b[0m                                 Traceback (most recent call last)",
                        "\u001b[1;32m~\\AppData\\Local\\Temp/ipykernel_6620/816329950.py\u001b[0m in \u001b[0;36m<module>\u001b[1;34m\u001b[0m\n\u001b[1;32m----> 1\u001b[1;33m \u001b[0mt\u001b[0m\u001b[1;33m[\u001b[0m\u001b[1;36m0\u001b[0m\u001b[1;33m]\u001b[0m \u001b[1;33m=\u001b[0m \u001b[1;36m100\u001b[0m\u001b[1;33m\u001b[0m\u001b[1;33m\u001b[0m\u001b[0m\n\u001b[0m",
                        "\u001b[1;31mTypeError\u001b[0m: 'tuple' object does not support item assignment"
                    ]
                }
            ],
            "metadata": {}
        },
        {
            "cell_type": "markdown",
            "source": [
                "Tuples are often used for functions that have multiple return values.\r\n",
                "\r\n",
                "For example, the as_integer_ratio() method of float objects returns a numerator and a denominator in the form of a tuple:"
            ],
            "metadata": {}
        },
        {
            "cell_type": "code",
            "execution_count": 42,
            "source": [
                "x = 0.125\r\n",
                "x.as_integer_ratio()"
            ],
            "outputs": [
                {
                    "output_type": "execute_result",
                    "data": {
                        "text/plain": [
                            "(1, 8)"
                        ]
                    },
                    "metadata": {},
                    "execution_count": 42
                }
            ],
            "metadata": {}
        },
        {
            "cell_type": "markdown",
            "source": [
                "These multiple return values can be individually assigned as follows:"
            ],
            "metadata": {}
        },
        {
            "cell_type": "code",
            "execution_count": 44,
            "source": [
                "numerator, denominator = x.as_integer_ratio()\r\n",
                "print(numerator / denominator)"
            ],
            "outputs": [
                {
                    "output_type": "stream",
                    "name": "stdout",
                    "text": [
                        "0.125\n"
                    ]
                }
            ],
            "metadata": {}
        },
        {
            "cell_type": "markdown",
            "source": [
                "Finally we have some insight into the classic Stupid Python Trick™ for swapping two variables!"
            ],
            "metadata": {}
        },
        {
            "cell_type": "code",
            "execution_count": 45,
            "source": [
                "a = 1\r\n",
                "b = 0\r\n",
                "a, b = b, a\r\n",
                "print(a, b)"
            ],
            "outputs": [
                {
                    "output_type": "stream",
                    "name": "stdout",
                    "text": [
                        "0 1\n"
                    ]
                }
            ],
            "metadata": {}
        }
    ],
    "metadata": {
        "orig_nbformat": 4,
        "language_info": {
            "name": "python",
            "version": "3.9.5",
            "mimetype": "text/x-python",
            "codemirror_mode": {
                "name": "ipython",
                "version": 3
            },
            "pygments_lexer": "ipython3",
            "nbconvert_exporter": "python",
            "file_extension": ".py"
        },
        "kernelspec": {
            "name": "python3",
            "display_name": "Python 3.9.5 64-bit"
        },
        "interpreter": {
            "hash": "00912efd329a3df5efa48d29263402d1aadd961449a680f572788c470975051d"
        }
    },
    "nbformat": 4,
    "nbformat_minor": 2
}